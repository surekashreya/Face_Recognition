{
 "cells": [
  {
   "cell_type": "code",
   "execution_count": 3,
   "id": "fca42fb5",
   "metadata": {},
   "outputs": [],
   "source": [
    "from PIL import Image\n",
    "from keras.applications.vgg16 import preprocess_input\n",
    "import base64\n",
    "from io import BytesIO\n",
    "import json\n",
    "import random\n",
    "\n",
    "import cv2\n",
    "from keras.models import load_model\n",
    "import numpy as np\n"
   ]
  },
  {
   "cell_type": "code",
   "execution_count": 4,
   "id": "28506289",
   "metadata": {},
   "outputs": [
    {
     "name": "stderr",
     "output_type": "stream",
     "text": [
      "<>:14: SyntaxWarning: \"is\" with a literal. Did you mean \"==\"?\n",
      "<>:14: SyntaxWarning: \"is\" with a literal. Did you mean \"==\"?\n",
      "C:\\Users\\surek\\AppData\\Local\\Temp\\ipykernel_15864\\4135753420.py:14: SyntaxWarning: \"is\" with a literal. Did you mean \"==\"?\n",
      "  if faces is ():\n"
     ]
    }
   ],
   "source": [
    "from keras.preprocessing import image\n",
    "model = load_model('C:/Users/surek/Downloads/face recognition/facefeatures_new_model.h5')\n",
    "\n",
    "# Loading the cascades\n",
    "face_cascade = cv2.CascadeClassifier('C:/Users/surek/Downloads/face recognition/haarcascade_frontalface_default.xml')\n",
    "\n",
    "def face_extractor(img):\n",
    "    # Function detects faces and returns the cropped face\n",
    "    # If no face detected, it returns the input image\n",
    "    \n",
    "    #gray = cv2.cvtColor(img,cv2.COLOR_BGR2GRAY)\n",
    "    faces = face_cascade.detectMultiScale(img, 1.3, 5)\n",
    "    \n",
    "    if faces is ():\n",
    "        return None\n",
    "    \n",
    "    # Crop all faces found\n",
    "    for (x,y,w,h) in faces:\n",
    "        cv2.rectangle(img,(x,y),(x+w,y+h),(0,255,255),2)\n",
    "        cropped_face = img[y:y+h, x:x+w]\n",
    "\n",
    "    return cropped_face"
   ]
  },
  {
   "cell_type": "code",
   "execution_count": null,
   "id": "9971b267",
   "metadata": {},
   "outputs": [
    {
     "name": "stdout",
     "output_type": "stream",
     "text": [
      "1/1 [==============================] - 2s 2s/step\n",
      "[[1. 0.]]\n",
      "1/1 [==============================] - 0s 298ms/step\n",
      "[[1. 0.]]\n",
      "1/1 [==============================] - 0s 289ms/step\n",
      "[[1.0000000e+00 4.5206914e-34]]\n",
      "1/1 [==============================] - 0s 167ms/step\n",
      "[[1.0000000e+00 2.3021893e-11]]\n",
      "1/1 [==============================] - 0s 170ms/step\n",
      "[[1.0000000e+00 1.2680494e-12]]\n",
      "1/1 [==============================] - 0s 155ms/step\n",
      "[[1. 0.]]\n",
      "1/1 [==============================] - 0s 196ms/step\n",
      "[[1. 0.]]\n",
      "1/1 [==============================] - 0s 167ms/step\n",
      "[[1. 0.]]\n",
      "1/1 [==============================] - 0s 161ms/step\n",
      "[[1.0000000e+00 8.4026265e-29]]\n",
      "1/1 [==============================] - 0s 159ms/step\n",
      "[[1.0000000e+00 3.4969194e-34]]\n",
      "1/1 [==============================] - 0s 167ms/step\n",
      "[[1.0000000e+00 2.1527093e-23]]\n",
      "1/1 [==============================] - 0s 190ms/step\n",
      "[[1.000000e+00 7.534267e-32]]\n",
      "1/1 [==============================] - 0s 155ms/step\n",
      "[[1. 0.]]\n",
      "1/1 [==============================] - 0s 169ms/step\n",
      "[[1. 0.]]\n",
      "1/1 [==============================] - 0s 155ms/step\n",
      "[[1. 0.]]\n",
      "1/1 [==============================] - 0s 154ms/step\n",
      "[[1.000000e+00 8.554052e-36]]\n",
      "1/1 [==============================] - 0s 182ms/step\n",
      "[[1. 0.]]\n",
      "1/1 [==============================] - 0s 174ms/step\n",
      "[[1. 0.]]\n",
      "1/1 [==============================] - 0s 284ms/step\n",
      "[[2.4261724e-14 1.0000000e+00]]\n",
      "1/1 [==============================] - 0s 326ms/step\n",
      "[[1.000000e+00 3.888625e-14]]\n",
      "1/1 [==============================] - 0s 289ms/step\n",
      "[[0.8378263  0.16217363]]\n",
      "1/1 [==============================] - 0s 323ms/step\n",
      "[[1.0000000e+00 1.7100303e-10]]\n",
      "1/1 [==============================] - 0s 319ms/step\n",
      "[[1.1513686e-11 1.0000000e+00]]\n"
     ]
    }
   ],
   "source": [
    "video_capture = cv2.VideoCapture(0)\n",
    "while True:\n",
    "    _, frame = video_capture.read()\n",
    "    #canvas = detect(gray, frame)\n",
    "    #image, face =face_detector(frame)\n",
    "    \n",
    "    face=face_extractor(frame)\n",
    "    if type(face) is np.ndarray:\n",
    "        face = cv2.resize(face, (224, 224))\n",
    "        im = Image.fromarray(face, 'RGB')\n",
    "           #Resizing into 128x128 because we trained the model with this image size.\n",
    "        img_array = np.array(im)\n",
    "                    #Our keras model used a 4D tensor, (images x height x width x channel)\n",
    "                    #So changing dimension 128x128x3 into 1x128x128x3 \n",
    "        img_array = np.expand_dims(img_array, axis=0)\n",
    "        pred = model.predict(img_array)\n",
    "        print(pred)\n",
    "                     \n",
    "        name=\"None matching\"\n",
    "        \n",
    "        if(pred[0][0]>0.7):\n",
    "            name='Shreya'\n",
    "        cv2.putText(frame,name, (50, 50), cv2.FONT_HERSHEY_COMPLEX, 1, (0,255,0), 2)\n",
    "        \n",
    "            \n",
    "    else:\n",
    "        cv2.putText(frame,\"No face found\", (50, 50), cv2.FONT_HERSHEY_COMPLEX, 1, (0,255,0), 2)\n",
    "    cv2.imshow('Video', frame)\n",
    "    if cv2.waitKey(1) & 0xFF == ord('q'):\n",
    "        break\n",
    "video_capture.release()\n",
    "cv2.destroyAllWindows()"
   ]
  },
  {
   "cell_type": "code",
   "execution_count": null,
   "id": "0e9cf1a9",
   "metadata": {},
   "outputs": [],
   "source": []
  },
  {
   "cell_type": "code",
   "execution_count": null,
   "id": "ae9d469a",
   "metadata": {},
   "outputs": [],
   "source": []
  }
 ],
 "metadata": {
  "kernelspec": {
   "display_name": "Python 3 (ipykernel)",
   "language": "python",
   "name": "python3"
  },
  "language_info": {
   "codemirror_mode": {
    "name": "ipython",
    "version": 3
   },
   "file_extension": ".py",
   "mimetype": "text/x-python",
   "name": "python",
   "nbconvert_exporter": "python",
   "pygments_lexer": "ipython3",
   "version": "3.9.12"
  }
 },
 "nbformat": 4,
 "nbformat_minor": 5
}
